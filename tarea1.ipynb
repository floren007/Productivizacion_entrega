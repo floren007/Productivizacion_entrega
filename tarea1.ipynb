{
 "cells": [
  {
   "cell_type": "markdown",
   "id": "bf0ca62d",
   "metadata": {},
   "source": [
    "# API de MLflow\n",
    "\n",
    "Esta tarea pretende poner en práctica la habilidad del estudiante para registrar un modelo sencillo en MLflow. Para ello, será necesario tener un entorno virtual con MLflow y su interfaz de usuario. El estudiante realizará los pasos solicitados en cada parte.  \n",
    "\n",
    "En esta práctica aprenderemos a utilizar la API de MLflow (_mlflow.Client_). Esto será de mucha utilidad para realizar operaciones de forma remota, como registrar modelos, descargar modelos, desplegar modelos, etc. Aquí tenemos la documentación por si pueda ser de ayuda: https://mlflow.org/docs/latest/getting-started/logging-first-model/step2-mlflow-client.html\n",
    "\n",
    "Todo el código que realicéis debe estar en las celdas que pone `### CÓDIGO DEL ESTUDIANTE`. Si necesitáis importar librerías, podéis hacerlo con total libertad. Pero no os salgáis del entorno virtual del curso instalando nuevas librerías adicionales. También leeréis algunas celdas que pone `### PANTALLAZO DEL ESTUDIANTE`, que aplicará poner el pantallazo y se verá en el PDF que creéis.\n",
    "\n",
    "Una vez finalizada la actividad, guarda tu fichero y asegúrate de que no se lanza ningún error. No se corregirá ningún fichero que tenga errores de sintaxis y no se pueda, como mínimo, ejecutar completamente. RECUERDA SUBIR CADA UNO DE LOS FICHEROS .ipynb TAL CUAL (sueltos), SIN COMPRIMIR Y SIN CAMBIARLES EL NOMBRE. Los ficheros subidos deben tener exactamente el mismo nombre de fichero que tenían cuando los recibiste. Adicionalmente, subiréis un PDF o HTML con el resultado de todo el Notebook, incluidos pantallazos si se piden. La plataforma ya los separa automáticamente en carpetas que traen el nombre y apellidos del estudiante, por lo que NO es necesario que lo pongas en ninguna parte."
   ]
  },
  {
   "cell_type": "markdown",
   "id": "ed6ca663",
   "metadata": {},
   "source": [
    "## Parte 1\n",
    "\n",
    "En esta primera parte, realizaréis un modelo muy básico con la librería de `sklearn` con las siguientes características:\n",
    "\n",
    "- el dataset será el de iris de la librería sklearn.\n",
    "- se pide un train-test-split de un 30% del dataset en el conjunto de test.\n",
    "- ajustaréis un modelo de _Logistic Regression_ con el conjunto de train.\n",
    "- realizaréis las predicciones con el conjunto de test.\n",
    "- mostraréis el _accuracy_ final con un simple print.\n",
    "- utilizar la semilla 99, tanto para el train-test-split como para la Logistic Regression. \n",
    "\n",
    "Nota, aquí no se pide utilizar MLflow."
   ]
  },
  {
   "cell_type": "code",
   "execution_count": 1,
   "id": "bac95728",
   "metadata": {},
   "outputs": [],
   "source": [
    "# Librerias\n",
    "from utils import read_yaml\n",
    "from datetime import datetime\n",
    "import mlflow\n",
    "from sklearn.datasets import load_iris\n",
    "from sklearn.model_selection import train_test_split\n",
    "from sklearn.linear_model import LogisticRegression"
   ]
  },
  {
   "cell_type": "code",
   "execution_count": 2,
   "id": "acf88491",
   "metadata": {},
   "outputs": [],
   "source": [
    "config = read_yaml()"
   ]
  },
  {
   "cell_type": "code",
   "execution_count": 5,
   "id": "de3b1d6f",
   "metadata": {},
   "outputs": [
    {
     "data": {
      "text/plain": [
       "array([0, 0, 0, 0, 0, 0, 0, 0, 0, 0, 0, 0, 0, 0, 0, 0, 0, 0, 0, 0, 0, 0,\n",
       "       0, 0, 0, 0, 0, 0, 0, 0, 0, 0, 0, 0, 0, 0, 0, 0, 0, 0, 0, 0, 0, 0,\n",
       "       0, 0, 0, 0, 0, 0, 1, 1, 1, 1, 1, 1, 1, 1, 1, 1, 1, 1, 1, 1, 1, 1,\n",
       "       1, 1, 1, 1, 1, 1, 1, 1, 1, 1, 1, 1, 1, 1, 1, 1, 1, 1, 1, 1, 1, 1,\n",
       "       1, 1, 1, 1, 1, 1, 1, 1, 1, 1, 1, 1, 2, 2, 2, 2, 2, 2, 2, 2, 2, 2,\n",
       "       2, 2, 2, 2, 2, 2, 2, 2, 2, 2, 2, 2, 2, 2, 2, 2, 2, 2, 2, 2, 2, 2,\n",
       "       2, 2, 2, 2, 2, 2, 2, 2, 2, 2, 2, 2, 2, 2, 2, 2, 2, 2])"
      ]
     },
     "execution_count": 5,
     "metadata": {},
     "output_type": "execute_result"
    }
   ],
   "source": [
    "### CÓDIGO DEL ESTUDIANTE\n",
    "\n",
    "dataset = load_iris()\n",
    "x = dataset.data\n",
    "y = dataset.target\n",
    "x_train, x_test, y_train, y_test = train_test_split(x,y,test_size=config['ConfigLogisticRegression']['test_size'], random_state = config['ConfigLogisticRegression']['random_state'])\n",
    "\n",
    "model = LogisticRegression()\n",
    "model.fit(x_train,y_train)\n"
   ]
  },
  {
   "cell_type": "markdown",
   "id": "03af9e77",
   "metadata": {},
   "source": [
    "## Parte 2\n",
    "\n",
    "Ahora vamos a trabajar con MLflow. Tendréis que investigar cómo loggar el modelo y la métrica. Deberéis comprobar que se ve el modelo y la métrica en la interfaz de usuario. El modelo tendrá el nombre **IrisApellido1Apellido2**, donde _Apellido1_ y _Apellido2_ serán vuestros respectivos apellidos.\n",
    "\n",
    "Adicionalmente, crearéis un cliente de MLflow con el siguiente comando `client = MlflowClient()`. Y sobre este cliente, tendréis que investigar cómo **registrar el modelo** sin usar la interfaz de usuario. Directamente a través del cliente.\n",
    "\n",
    "Añadiréis un pantallazo al Notebook actual para demostrar que se ha hecho todo correctamente. En el pantallazo deberá aparecer la UI de MLflow con el modelo Registrado."
   ]
  },
  {
   "cell_type": "code",
   "execution_count": null,
   "id": "889fa3aa",
   "metadata": {},
   "outputs": [],
   "source": [
    "### CÓDIGO DEL ESTUDIANTE"
   ]
  },
  {
   "cell_type": "code",
   "execution_count": null,
   "id": "0903e40f",
   "metadata": {},
   "outputs": [],
   "source": [
    "### PANTALLAZO DEL ESTUDIANTE"
   ]
  },
  {
   "cell_type": "markdown",
   "id": "1db61edc",
   "metadata": {},
   "source": [
    "## Parte 3\n",
    "\n",
    "Ahora recuperareis la última versión del modelo que acabáis de registrar llamando Este modelo lo pondremos dentro de un decorator de Flask con la siguiente cabecera:\n",
    "\n",
    "`\n",
    "@app.route('/predict', methods=['POST'])\n",
    "`\n",
    "\n",
    "`\n",
    "def predict():\n",
    "`"
   ]
  },
  {
   "cell_type": "code",
   "execution_count": 15,
   "id": "35fdc4ac",
   "metadata": {},
   "outputs": [],
   "source": [
    "### CÓDIGO DEL ESTUDIANTE"
   ]
  },
  {
   "cell_type": "markdown",
   "id": "fdaae31b",
   "metadata": {},
   "source": [
    "# Parte 4\n",
    "\n",
    "Ahora comprobaremos que todo funciona correctamente. Para ello, aquí levantaréis el servicio de Flask sobre el puerto 5000 de localhost y utilizaréis este trozo de código desde otro notebook para comprobar que funciona correctamente el servicio y la función `predict`.\n",
    "\n",
    "Aquí el código que podréis utilizar:"
   ]
  },
  {
   "cell_type": "raw",
   "id": "53fdb1ea",
   "metadata": {},
   "source": [
    "import requests\n",
    "import json\n",
    "\n",
    "url = 'http://localhost:5000/predict'\n",
    "data = {\n",
    "    \"data\": [[5.1, 3.5, 1.4, 0.2], [6.2, 3.4, 5.4, 2.3]]\n",
    "}\n",
    "\n",
    "response = requests.post(url, headers={\"Content-Type\": \"application/json\"}, data=json.dumps(data))\n",
    "print(response.json())"
   ]
  },
  {
   "cell_type": "markdown",
   "id": "957ceaa6",
   "metadata": {},
   "source": [
    "Y aquí tendréis que poner un pantallazo con el resultado de la llamada. En el pantallazo se tendrá que ver ambos notebooks, éste y el otro, con éste corriendo con la aplicación y el otro mostrando el resultado de la llamada `POST` anterior."
   ]
  },
  {
   "cell_type": "code",
   "execution_count": 18,
   "id": "eae0acf3",
   "metadata": {},
   "outputs": [],
   "source": [
    "### PANTALLAZO DEL ESTUDIANTE"
   ]
  },
  {
   "cell_type": "code",
   "execution_count": null,
   "id": "40a4b315",
   "metadata": {},
   "outputs": [],
   "source": []
  }
 ],
 "metadata": {
  "kernelspec": {
   "display_name": "Python 3 (ipykernel)",
   "language": "python",
   "name": "python3"
  },
  "language_info": {
   "codemirror_mode": {
    "name": "ipython",
    "version": 3
   },
   "file_extension": ".py",
   "mimetype": "text/x-python",
   "name": "python",
   "nbconvert_exporter": "python",
   "pygments_lexer": "ipython3",
   "version": "3.9.5"
  }
 },
 "nbformat": 4,
 "nbformat_minor": 5
}
