{
 "cells": [
  {
   "cell_type": "markdown",
   "id": "bf0ca62d",
   "metadata": {},
   "source": [
    "# API de MLflow\n",
    "\n",
    "Esta tarea pretende poner en práctica la habilidad del estudiante para registrar un modelo sencillo en MLflow. Para ello, será necesario tener un entorno virtual con MLflow y su interfaz de usuario. El estudiante realizará los pasos solicitados en cada parte.  \n",
    "\n",
    "En esta práctica aprenderemos a utilizar la API de MLflow (_mlflow.Client_). Esto será de mucha utilidad para realizar operaciones de forma remota, como registrar modelos, descargar modelos, desplegar modelos, etc. Aquí tenemos la documentación por si pueda ser de ayuda: https://mlflow.org/docs/latest/getting-started/logging-first-model/step2-mlflow-client.html\n",
    "\n",
    "Todo el código que realicéis debe estar en las celdas que pone `### CÓDIGO DEL ESTUDIANTE`. Si necesitáis importar librerías, podéis hacerlo con total libertad. Pero no os salgáis del entorno virtual del curso instalando nuevas librerías adicionales. También leeréis algunas celdas que pone `### PANTALLAZO DEL ESTUDIANTE`, que aplicará poner el pantallazo y se verá en el PDF que creéis.\n",
    "\n",
    "Una vez finalizada la actividad, guarda tu fichero y asegúrate de que no se lanza ningún error. No se corregirá ningún fichero que tenga errores de sintaxis y no se pueda, como mínimo, ejecutar completamente. RECUERDA SUBIR CADA UNO DE LOS FICHEROS .ipynb TAL CUAL (sueltos), SIN COMPRIMIR Y SIN CAMBIARLES EL NOMBRE. Los ficheros subidos deben tener exactamente el mismo nombre de fichero que tenían cuando los recibiste. Adicionalmente, subiréis un PDF o HTML con el resultado de todo el Notebook, incluidos pantallazos si se piden. La plataforma ya los separa automáticamente en carpetas que traen el nombre y apellidos del estudiante, por lo que NO es necesario que lo pongas en ninguna parte."
   ]
  },
  {
   "cell_type": "markdown",
   "id": "ed6ca663",
   "metadata": {},
   "source": [
    "## Parte 1\n",
    "\n",
    "En esta primera parte, realizaréis un modelo muy básico con la librería de `sklearn` con las siguientes características:\n",
    "\n",
    "- el dataset será el de iris de la librería sklearn.\n",
    "- se pide un train-test-split de un 30% del dataset en el conjunto de test.\n",
    "- ajustaréis un modelo de _Logistic Regression_ con el conjunto de train.\n",
    "- realizaréis las predicciones con el conjunto de test.\n",
    "- mostraréis el _accuracy_ final con un simple print.\n",
    "- utilizar la semilla 99, tanto para el train-test-split como para la Logistic Regression. \n",
    "\n",
    "Nota, aquí no se pide utilizar MLflow."
   ]
  },
  {
   "cell_type": "code",
   "execution_count": 1,
   "id": "bac95728",
   "metadata": {},
   "outputs": [],
   "source": [
    "# Librerias\n",
    "from utils import read_yaml\n",
    "from datetime import datetime\n",
    "import mlflow\n",
    "from sklearn.datasets import load_iris\n",
    "from sklearn.model_selection import train_test_split\n",
    "from sklearn.linear_model import LogisticRegression\n",
    "from sklearn.metrics import accuracy_score\n",
    "from mlflow import models"
   ]
  },
  {
   "cell_type": "code",
   "execution_count": 2,
   "id": "85c38878",
   "metadata": {},
   "outputs": [],
   "source": [
    "### CÓDIGO DEL ESTUDIANTE\n",
    "def read_data_iris(test_size: float,seed: float):\n",
    "    dataset = load_iris()\n",
    "    x = dataset.data\n",
    "    y = dataset.target\n",
    "    return train_test_split(x,y,test_size = test_size, random_state = seed)"
   ]
  },
  {
   "cell_type": "code",
   "execution_count": 3,
   "id": "8ccfa980",
   "metadata": {},
   "outputs": [],
   "source": [
    "### CÓDIGO DEL ESTUDIANTE\n",
    "def modeling(x_train: float, x_test: float, y_train: float, y_test: float, seed: int):\n",
    "    model = LogisticRegression(random_state = seed)\n",
    "    model.fit(x_train,y_train)\n",
    "    score = model.score(x_test,y_test)\n",
    "\n",
    "    return model, score"
   ]
  },
  {
   "cell_type": "code",
   "execution_count": 4,
   "id": "de3b1d6f",
   "metadata": {},
   "outputs": [],
   "source": [
    "### CÓDIGO DEL ESTUDIANTE\n",
    "config = read_yaml()\n",
    "seed = config['ConfigLogisticRegression']['seed']\n",
    "test_size = config['ConfigLogisticRegression']['test_size']\n",
    "\n",
    "x_train, x_test, y_train, y_test = read_data_iris(test_size = test_size, seed = seed)\n",
    "model, score = modeling(x_train, x_test, y_train, y_test, seed)\n",
    "\n",
    "y_pred = model.predict(x_test)"
   ]
  },
  {
   "cell_type": "code",
   "execution_count": 5,
   "id": "fed26b26",
   "metadata": {},
   "outputs": [
    {
     "name": "stdout",
     "output_type": "stream",
     "text": [
      "Accuracy: 0.9555555555555556\n"
     ]
    }
   ],
   "source": [
    "accuracy = accuracy_score(y_test, y_pred)\n",
    "print(f\"Accuracy: {accuracy}\")"
   ]
  },
  {
   "cell_type": "markdown",
   "id": "03af9e77",
   "metadata": {},
   "source": [
    "## Parte 2\n",
    "\n",
    "Ahora vamos a trabajar con MLflow. Tendréis que investigar cómo loggar el modelo y la métrica. Deberéis comprobar que se ve el modelo y la métrica en la interfaz de usuario. El modelo tendrá el nombre **IrisApellido1Apellido2**, donde _Apellido1_ y _Apellido2_ serán vuestros respectivos apellidos.\n",
    "\n",
    "Adicionalmente, crearéis un cliente de MLflow con el siguiente comando `client = MlflowClient()`. Y sobre este cliente, tendréis que investigar cómo **registrar el modelo** sin usar la interfaz de usuario. Directamente a través del cliente.\n",
    "\n",
    "Añadiréis un pantallazo al Notebook actual para demostrar que se ha hecho todo correctamente. En el pantallazo deberá aparecer la UI de MLflow con el modelo Registrado."
   ]
  },
  {
   "cell_type": "code",
   "execution_count": 20,
   "id": "3b2e2123",
   "metadata": {},
   "outputs": [],
   "source": [
    "from flask import Flask, jsonify\n",
    "import pandas as pd"
   ]
  },
  {
   "cell_type": "code",
   "execution_count": 21,
   "id": "00469b96",
   "metadata": {},
   "outputs": [],
   "source": [
    "app = Flask(__name__)"
   ]
  },
  {
   "cell_type": "code",
   "execution_count": 22,
   "id": "1f2f188c",
   "metadata": {},
   "outputs": [
    {
     "data": {
      "text/plain": [
       "<function flask.sansio.scaffold.Scaffold.route.<locals>.decorator(f: 'T_route') -> 'T_route'>"
      ]
     },
     "execution_count": 22,
     "metadata": {},
     "output_type": "execute_result"
    }
   ],
   "source": [
    "app.route('/prediction', methods=['GET'])"
   ]
  },
  {
   "cell_type": "code",
   "execution_count": 26,
   "id": "91039a4e",
   "metadata": {},
   "outputs": [
    {
     "name": "stdout",
     "output_type": "stream",
     "text": [
      " * Serving Flask app '__main__'\n",
      " * Debug mode: off\n"
     ]
    },
    {
     "name": "stderr",
     "output_type": "stream",
     "text": [
      "WARNING: This is a development server. Do not use it in a production deployment. Use a production WSGI server instead.\n",
      " * Running on http://127.0.0.1:8080\n",
      "Press CTRL+C to quit\n",
      "127.0.0.1 - - [23/Jul/2024 13:04:17] \"GET / HTTP/1.1\" 404 -\n",
      "127.0.0.1 - - [23/Jul/2024 13:04:24] \"GET / HTTP/1.1\" 404 -\n",
      "127.0.0.1 - - [23/Jul/2024 13:04:26] \"GET / HTTP/1.1\" 404 -\n",
      "127.0.0.1 - - [23/Jul/2024 13:04:26] \"GET / HTTP/1.1\" 404 -\n",
      "127.0.0.1 - - [23/Jul/2024 13:04:38] \"GET / HTTP/1.1\" 404 -\n",
      "127.0.0.1 - - [23/Jul/2024 13:04:53] \"GET / HTTP/1.1\" 404 -\n"
     ]
    }
   ],
   "source": [
    "if __name__ == '__main__':\n",
    "    app.run(port=8080)\n",
    "\n",
    "\n"
   ]
  },
  {
   "cell_type": "code",
   "execution_count": 27,
   "id": "200b6325",
   "metadata": {},
   "outputs": [
    {
     "ename": "RuntimeError",
     "evalue": "Working outside of application context.\n\nThis typically means that you attempted to use functionality that needed\nthe current application. To solve this, set up an application context\nwith app.app_context(). See the documentation for more information.",
     "output_type": "error",
     "traceback": [
      "\u001b[1;31m---------------------------------------------------------------------------\u001b[0m",
      "\u001b[1;31mRuntimeError\u001b[0m                              Traceback (most recent call last)",
      "Cell \u001b[1;32mIn[27], line 4\u001b[0m\n\u001b[0;32m      1\u001b[0m \u001b[38;5;28;01mimport\u001b[39;00m \u001b[38;5;21;01mrequests\u001b[39;00m\n\u001b[0;32m      3\u001b[0m pd_results \u001b[38;5;241m=\u001b[39m pd\u001b[38;5;241m.\u001b[39mDataFrame(y_pred, columns\u001b[38;5;241m=\u001b[39m[\u001b[38;5;124m'\u001b[39m\u001b[38;5;124mresult\u001b[39m\u001b[38;5;124m'\u001b[39m])\n\u001b[1;32m----> 4\u001b[0m requests\u001b[38;5;241m.\u001b[39mget(\u001b[38;5;124m\"\u001b[39m\u001b[38;5;124mhttps://localhost:8080/prediction\u001b[39m\u001b[38;5;124m\"\u001b[39m,json\u001b[38;5;241m=\u001b[39m\u001b[43mjsonify\u001b[49m\u001b[43m(\u001b[49m\u001b[43mpd_results\u001b[49m\u001b[38;5;241;43m.\u001b[39;49m\u001b[43mto_json\u001b[49m\u001b[43m(\u001b[49m\u001b[43morient\u001b[49m\u001b[38;5;241;43m=\u001b[39;49m\u001b[38;5;124;43m'\u001b[39;49m\u001b[38;5;124;43mrecords\u001b[39;49m\u001b[38;5;124;43m'\u001b[39;49m\u001b[43m)\u001b[49m\u001b[43m)\u001b[49m)\n",
      "File \u001b[1;32mc:\\Productivizacion_entrega\\.venv\\lib\\site-packages\\flask\\json\\__init__.py:170\u001b[0m, in \u001b[0;36mjsonify\u001b[1;34m(*args, **kwargs)\u001b[0m\n\u001b[0;32m    138\u001b[0m \u001b[38;5;28;01mdef\u001b[39;00m \u001b[38;5;21mjsonify\u001b[39m(\u001b[38;5;241m*\u001b[39margs: t\u001b[38;5;241m.\u001b[39mAny, \u001b[38;5;241m*\u001b[39m\u001b[38;5;241m*\u001b[39mkwargs: t\u001b[38;5;241m.\u001b[39mAny) \u001b[38;5;241m-\u001b[39m\u001b[38;5;241m>\u001b[39m Response:\n\u001b[0;32m    139\u001b[0m \u001b[38;5;250m    \u001b[39m\u001b[38;5;124;03m\"\"\"Serialize the given arguments as JSON, and return a\u001b[39;00m\n\u001b[0;32m    140\u001b[0m \u001b[38;5;124;03m    :class:`~flask.Response` object with the ``application/json``\u001b[39;00m\n\u001b[0;32m    141\u001b[0m \u001b[38;5;124;03m    mimetype. A dict or list returned from a view will be converted to a\u001b[39;00m\n\u001b[1;32m   (...)\u001b[0m\n\u001b[0;32m    168\u001b[0m \u001b[38;5;124;03m    .. versionadded:: 0.2\u001b[39;00m\n\u001b[0;32m    169\u001b[0m \u001b[38;5;124;03m    \"\"\"\u001b[39;00m\n\u001b[1;32m--> 170\u001b[0m     \u001b[38;5;28;01mreturn\u001b[39;00m \u001b[43mcurrent_app\u001b[49m\u001b[38;5;241;43m.\u001b[39;49m\u001b[43mjson\u001b[49m\u001b[38;5;241m.\u001b[39mresponse(\u001b[38;5;241m*\u001b[39margs, \u001b[38;5;241m*\u001b[39m\u001b[38;5;241m*\u001b[39mkwargs)\n",
      "File \u001b[1;32mc:\\Productivizacion_entrega\\.venv\\lib\\site-packages\\werkzeug\\local.py:318\u001b[0m, in \u001b[0;36m_ProxyLookup.__get__\u001b[1;34m(self, instance, owner)\u001b[0m\n\u001b[0;32m    315\u001b[0m     \u001b[38;5;28;01mreturn\u001b[39;00m \u001b[38;5;28mself\u001b[39m\n\u001b[0;32m    317\u001b[0m \u001b[38;5;28;01mtry\u001b[39;00m:\n\u001b[1;32m--> 318\u001b[0m     obj \u001b[38;5;241m=\u001b[39m \u001b[43minstance\u001b[49m\u001b[38;5;241;43m.\u001b[39;49m\u001b[43m_get_current_object\u001b[49m\u001b[43m(\u001b[49m\u001b[43m)\u001b[49m\n\u001b[0;32m    319\u001b[0m \u001b[38;5;28;01mexcept\u001b[39;00m \u001b[38;5;167;01mRuntimeError\u001b[39;00m:\n\u001b[0;32m    320\u001b[0m     \u001b[38;5;28;01mif\u001b[39;00m \u001b[38;5;28mself\u001b[39m\u001b[38;5;241m.\u001b[39mfallback \u001b[38;5;129;01mis\u001b[39;00m \u001b[38;5;28;01mNone\u001b[39;00m:\n",
      "File \u001b[1;32mc:\\Productivizacion_entrega\\.venv\\lib\\site-packages\\werkzeug\\local.py:519\u001b[0m, in \u001b[0;36mLocalProxy.__init__.<locals>._get_current_object\u001b[1;34m()\u001b[0m\n\u001b[0;32m    517\u001b[0m     obj \u001b[38;5;241m=\u001b[39m local\u001b[38;5;241m.\u001b[39mget()\n\u001b[0;32m    518\u001b[0m \u001b[38;5;28;01mexcept\u001b[39;00m \u001b[38;5;167;01mLookupError\u001b[39;00m:\n\u001b[1;32m--> 519\u001b[0m     \u001b[38;5;28;01mraise\u001b[39;00m \u001b[38;5;167;01mRuntimeError\u001b[39;00m(unbound_message) \u001b[38;5;28;01mfrom\u001b[39;00m \u001b[38;5;28;01mNone\u001b[39;00m\n\u001b[0;32m    521\u001b[0m \u001b[38;5;28;01mreturn\u001b[39;00m get_name(obj)\n",
      "\u001b[1;31mRuntimeError\u001b[0m: Working outside of application context.\n\nThis typically means that you attempted to use functionality that needed\nthe current application. To solve this, set up an application context\nwith app.app_context(). See the documentation for more information."
     ]
    }
   ],
   "source": [
    "import requests\n",
    "\n",
    "pd_results = pd.DataFrame(y_pred, columns=['result'])\n",
    "requests.get(\"https://localhost:8080/prediction\",json=jsonify(pd_results.to_json(orient='records')))"
   ]
  },
  {
   "cell_type": "code",
   "execution_count": 28,
   "id": "dcb54528",
   "metadata": {},
   "outputs": [
    {
     "name": "stdout",
     "output_type": "stream",
     "text": [
      " * Serving Flask app '__main__'\n",
      " * Debug mode: off\n"
     ]
    },
    {
     "name": "stderr",
     "output_type": "stream",
     "text": [
      "WARNING: This is a development server. Do not use it in a production deployment. Use a production WSGI server instead.\n",
      " * Running on http://127.0.0.1:5000\n",
      "Press CTRL+C to quit\n",
      "127.0.0.1 - - [23/Jul/2024 13:06:04] \"GET / HTTP/1.1\" 404 -\n",
      "127.0.0.1 - - [23/Jul/2024 13:06:04] \"GET /favicon.ico HTTP/1.1\" 404 -\n",
      "127.0.0.1 - - [23/Jul/2024 13:06:16] \"GET / HTTP/1.1\" 404 -\n",
      "127.0.0.1 - - [23/Jul/2024 13:06:30] \"GET / HTTP/1.1\" 404 -\n",
      "127.0.0.1 - - [23/Jul/2024 13:06:46] \"GET / HTTP/1.1\" 404 -\n",
      "127.0.0.1 - - [23/Jul/2024 13:07:10] \"GET / HTTP/1.1\" 404 -\n"
     ]
    }
   ],
   "source": [
    "from flask import Flask, Response\n",
    "import json\n",
    " \n",
    "app = Flask(__name__)\n",
    " \n",
    "@app.route('/api/users')\n",
    "def get_users():\n",
    "    users = [{'id': 1, 'username': 'sweety'},\n",
    "             {'id': 2, 'username': 'pandey'}]\n",
    "    response = Response(\n",
    "        response=json.dumps(users),\n",
    "        status=200,\n",
    "        mimetype='application/json'\n",
    "    )\n",
    "    return response\n",
    " \n",
    " \n",
    "if __name__ == \"__main__\":\n",
    "    app.run()"
   ]
  },
  {
   "cell_type": "code",
   "execution_count": 6,
   "id": "889fa3aa",
   "metadata": {},
   "outputs": [
    {
     "name": "stdout",
     "output_type": "stream",
     "text": [
      "Score del modelo: 0.9555555555555556\n"
     ]
    },
    {
     "name": "stderr",
     "output_type": "stream",
     "text": [
      "Successfully registered model 'IrisGarciaMartinez'.\n",
      "Created version '1' of model 'IrisGarciaMartinez'.\n"
     ]
    }
   ],
   "source": [
    "### CÓDIGO DEL ESTUDIANTE\n",
    "mlflow.end_run()\n",
    "client = mlflow.MlflowClient()\n",
    "mlflow.set_experiment(f\"experiment_{config['ConfigLogisticRegression']['model_name']}\")\n",
    "mlflow.sklearn.autolog()\n",
    "with mlflow.start_run() as run:\n",
    "    model = LogisticRegression(random_state = seed)\n",
    "    model.fit(x_train,y_train)\n",
    "    score = model.score(x_test, y_test)\n",
    "    mlflow.log_metric(\"score\", score)\n",
    "    print(f\"Score del modelo: {score}\")\n",
    "\n",
    "    # registrar el modelo\n",
    "    signature = models.infer_signature(x_test,y_pred)\n",
    "    mlflow.sklearn.log_model( \n",
    "        sk_model= model,\n",
    "        artifact_path= \"sklearn-model\",\n",
    "        signature = signature,\n",
    "        registered_model_name =  ['ConfigLogisticRegression']['model_name']\n",
    "    )"
   ]
  },
  {
   "cell_type": "code",
   "execution_count": 2,
   "id": "0903e40f",
   "metadata": {},
   "outputs": [],
   "source": [
    "### PANTALLAZO DEL ESTUDIANTE\n",
    "from PIL import Image\n",
    "\n",
    "# creating a object\n",
    "im = Image.open(\"parte2mlflow.png\")\n",
    "\n",
    "im.show()"
   ]
  },
  {
   "cell_type": "markdown",
   "id": "1db61edc",
   "metadata": {},
   "source": [
    "## Parte 3\n",
    "\n",
    "Ahora recuperareis la última versión del modelo que acabáis de registrar llamando Este modelo lo pondremos dentro de un decorator de Flask con la siguiente cabecera:\n",
    "\n",
    "`\n",
    "@app.route('/predict', methods=['POST'])\n",
    "`\n",
    "\n",
    "`\n",
    "def predict():\n",
    "`"
   ]
  },
  {
   "cell_type": "code",
   "execution_count": 15,
   "id": "35fdc4ac",
   "metadata": {},
   "outputs": [],
   "source": [
    "### CÓDIGO DEL ESTUDIANTE"
   ]
  },
  {
   "cell_type": "markdown",
   "id": "fdaae31b",
   "metadata": {},
   "source": [
    "# Parte 4\n",
    "\n",
    "Ahora comprobaremos que todo funciona correctamente. Para ello, aquí levantaréis el servicio de Flask sobre el puerto 5000 de localhost y utilizaréis este trozo de código desde otro notebook para comprobar que funciona correctamente el servicio y la función `predict`.\n",
    "\n",
    "Aquí el código que podréis utilizar:"
   ]
  },
  {
   "cell_type": "raw",
   "id": "53fdb1ea",
   "metadata": {},
   "source": [
    "import requests\n",
    "import json\n",
    "\n",
    "url = 'http://localhost:5000/predict'\n",
    "data = {\n",
    "    \"data\": [[5.1, 3.5, 1.4, 0.2], [6.2, 3.4, 5.4, 2.3]]\n",
    "}\n",
    "\n",
    "response = requests.post(url, headers={\"Content-Type\": \"application/json\"}, data=json.dumps(data))\n",
    "print(response.json())"
   ]
  },
  {
   "cell_type": "markdown",
   "id": "957ceaa6",
   "metadata": {},
   "source": [
    "Y aquí tendréis que poner un pantallazo con el resultado de la llamada. En el pantallazo se tendrá que ver ambos notebooks, éste y el otro, con éste corriendo con la aplicación y el otro mostrando el resultado de la llamada `POST` anterior."
   ]
  },
  {
   "cell_type": "code",
   "execution_count": 18,
   "id": "eae0acf3",
   "metadata": {},
   "outputs": [],
   "source": [
    "### PANTALLAZO DEL ESTUDIANTE"
   ]
  },
  {
   "cell_type": "code",
   "execution_count": null,
   "id": "40a4b315",
   "metadata": {},
   "outputs": [],
   "source": []
  }
 ],
 "metadata": {
  "kernelspec": {
   "display_name": "Python 3 (ipykernel)",
   "language": "python",
   "name": "python3"
  },
  "language_info": {
   "codemirror_mode": {
    "name": "ipython",
    "version": 3
   },
   "file_extension": ".py",
   "mimetype": "text/x-python",
   "name": "python",
   "nbconvert_exporter": "python",
   "pygments_lexer": "ipython3",
   "version": "3.9.5"
  }
 },
 "nbformat": 4,
 "nbformat_minor": 5
}
