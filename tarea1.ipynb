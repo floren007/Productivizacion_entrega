{
 "cells": [
  {
   "cell_type": "markdown",
   "id": "bf0ca62d",
   "metadata": {},
   "source": [
    "# API de MLflow\n",
    "\n",
    "Esta tarea pretende poner en práctica la habilidad del estudiante para registrar un modelo sencillo en MLflow. Para ello, será necesario tener un entorno virtual con MLflow y su interfaz de usuario. El estudiante realizará los pasos solicitados en cada parte.  \n",
    "\n",
    "En esta práctica aprenderemos a utilizar la API de MLflow (_mlflow.Client_). Esto será de mucha utilidad para realizar operaciones de forma remota, como registrar modelos, descargar modelos, desplegar modelos, etc. Aquí tenemos la documentación por si pueda ser de ayuda: https://mlflow.org/docs/latest/getting-started/logging-first-model/step2-mlflow-client.html\n",
    "\n",
    "Todo el código que realicéis debe estar en las celdas que pone `### CÓDIGO DEL ESTUDIANTE`. Si necesitáis importar librerías, podéis hacerlo con total libertad. Pero no os salgáis del entorno virtual del curso instalando nuevas librerías adicionales. También leeréis algunas celdas que pone `### PANTALLAZO DEL ESTUDIANTE`, que aplicará poner el pantallazo y se verá en el PDF que creéis.\n",
    "\n",
    "Una vez finalizada la actividad, guarda tu fichero y asegúrate de que no se lanza ningún error. No se corregirá ningún fichero que tenga errores de sintaxis y no se pueda, como mínimo, ejecutar completamente. RECUERDA SUBIR CADA UNO DE LOS FICHEROS .ipynb TAL CUAL (sueltos), SIN COMPRIMIR Y SIN CAMBIARLES EL NOMBRE. Los ficheros subidos deben tener exactamente el mismo nombre de fichero que tenían cuando los recibiste. Adicionalmente, subiréis un PDF o HTML con el resultado de todo el Notebook, incluidos pantallazos si se piden. La plataforma ya los separa automáticamente en carpetas que traen el nombre y apellidos del estudiante, por lo que NO es necesario que lo pongas en ninguna parte."
   ]
  },
  {
   "cell_type": "markdown",
   "id": "ed6ca663",
   "metadata": {},
   "source": [
    "## Parte 1\n",
    "\n",
    "En esta primera parte, realizaréis un modelo muy básico con la librería de `sklearn` con las siguientes características:\n",
    "\n",
    "- el dataset será el de iris de la librería sklearn.\n",
    "- se pide un train-test-split de un 30% del dataset en el conjunto de test.\n",
    "- ajustaréis un modelo de _Logistic Regression_ con el conjunto de train.\n",
    "- realizaréis las predicciones con el conjunto de test.\n",
    "- mostraréis el _accuracy_ final con un simple print.\n",
    "- utilizar la semilla 99, tanto para el train-test-split como para la Logistic Regression. \n",
    "\n",
    "Nota, aquí no se pide utilizar MLflow."
   ]
  },
  {
   "cell_type": "code",
   "execution_count": 1,
   "id": "bac95728",
   "metadata": {},
   "outputs": [],
   "source": [
    "# Librerias\n",
    "from utils import read_yaml\n",
    "from datetime import datetime\n",
    "import mlflow\n",
    "from sklearn.datasets import load_iris\n",
    "from sklearn.model_selection import train_test_split\n",
    "from sklearn.linear_model import LogisticRegression\n",
    "from sklearn.metrics import accuracy_score\n",
    "from mlflow import models"
   ]
  },
  {
   "cell_type": "code",
   "execution_count": 2,
   "id": "85c38878",
   "metadata": {},
   "outputs": [],
   "source": [
    "### CÓDIGO DEL ESTUDIANTE\n",
    "def read_data_iris(test_size: float,seed: float):\n",
    "    dataset = load_iris()\n",
    "    x = dataset.data\n",
    "    y = dataset.target\n",
    "    return train_test_split(x,y,test_size = test_size, random_state = seed)"
   ]
  },
  {
   "cell_type": "code",
   "execution_count": 3,
   "id": "8ccfa980",
   "metadata": {},
   "outputs": [],
   "source": [
    "### CÓDIGO DEL ESTUDIANTE\n",
    "def modeling(x_train: float, x_test: float, y_train: float, y_test: float, seed: int):\n",
    "    model = LogisticRegression(random_state = seed)\n",
    "    model.fit(x_train,y_train)\n",
    "    score = model.score(x_test,y_test)\n",
    "\n",
    "    return model, score"
   ]
  },
  {
   "cell_type": "code",
   "execution_count": 4,
   "id": "de3b1d6f",
   "metadata": {},
   "outputs": [],
   "source": [
    "### CÓDIGO DEL ESTUDIANTE\n",
    "config = read_yaml()\n",
    "seed = config['ConfigLogisticRegression']['seed']\n",
    "test_size = config['ConfigLogisticRegression']['test_size']\n",
    "\n",
    "x_train, x_test, y_train, y_test = read_data_iris(test_size = test_size, seed = seed)\n",
    "model, score = modeling(x_train, x_test, y_train, y_test, seed)\n",
    "\n",
    "y_pred = model.predict(x_test)"
   ]
  },
  {
   "cell_type": "code",
   "execution_count": 5,
   "id": "fed26b26",
   "metadata": {},
   "outputs": [
    {
     "name": "stdout",
     "output_type": "stream",
     "text": [
      "Accuracy: 0.9555555555555556\n"
     ]
    }
   ],
   "source": [
    "accuracy = accuracy_score(y_test, y_pred)\n",
    "print(f\"Accuracy: {accuracy}\")"
   ]
  },
  {
   "cell_type": "markdown",
   "id": "03af9e77",
   "metadata": {},
   "source": [
    "## Parte 2\n",
    "\n",
    "Ahora vamos a trabajar con MLflow. Tendréis que investigar cómo loggar el modelo y la métrica. Deberéis comprobar que se ve el modelo y la métrica en la interfaz de usuario. El modelo tendrá el nombre **IrisApellido1Apellido2**, donde _Apellido1_ y _Apellido2_ serán vuestros respectivos apellidos.\n",
    "\n",
    "Adicionalmente, crearéis un cliente de MLflow con el siguiente comando `client = MlflowClient()`. Y sobre este cliente, tendréis que investigar cómo **registrar el modelo** sin usar la interfaz de usuario. Directamente a través del cliente.\n",
    "\n",
    "Añadiréis un pantallazo al Notebook actual para demostrar que se ha hecho todo correctamente. En el pantallazo deberá aparecer la UI de MLflow con el modelo Registrado."
   ]
  },
  {
   "cell_type": "markdown",
   "id": "3b2e2123",
   "metadata": {},
   "source": [
    "#### Para el primer paso tan solo he ejecutado el Logistic Regression y he abierto la interfaz de mlflow\n",
    "#### con el comando en powershell mlflow ui --port 8080\n",
    "#### Automaticamente se abre la interfaz de mlflow y se ven los experimentdos generado con mi nombre"
   ]
  },
  {
   "cell_type": "code",
   "execution_count": 6,
   "id": "889fa3aa",
   "metadata": {},
   "outputs": [
    {
     "name": "stdout",
     "output_type": "stream",
     "text": [
      "Score del modelo: 0.9555555555555556\n"
     ]
    },
    {
     "name": "stderr",
     "output_type": "stream",
     "text": [
      "Successfully registered model 'IrisGarciaMartinez'.\n",
      "Created version '1' of model 'IrisGarciaMartinez'.\n"
     ]
    }
   ],
   "source": [
    "### CÓDIGO DEL ESTUDIANTE\n",
    "mlflow.end_run()\n",
    "client = mlflow.MlflowClient()\n",
    "mlflow.set_experiment(f\"experiment_{config['ConfigLogisticRegression']['model_name']}\")\n",
    "mlflow.sklearn.autolog()\n",
    "with mlflow.start_run() as run:\n",
    "    model = LogisticRegression(random_state = seed)\n",
    "    model.fit(x_train,y_train)\n",
    "    score = model.score(x_test, y_test)\n",
    "    mlflow.log_metric(\"score\", score)\n",
    "    print(f\"Score del modelo: {score}\")\n",
    "\n",
    "    # registrar el modelo\n",
    "    signature = models.infer_signature(x_test,y_pred)\n",
    "    mlflow.sklearn.log_model( \n",
    "        sk_model= model,\n",
    "        artifact_path= \"sklearn-model\",\n",
    "        signature = signature,\n",
    "        registered_model_name =  ['ConfigLogisticRegression']['model_name']\n",
    "    )"
   ]
  },
  {
   "cell_type": "code",
   "execution_count": 9,
   "id": "0903e40f",
   "metadata": {},
   "outputs": [],
   "source": [
    "### PANTALLAZO DEL ESTUDIANTE\n",
    "from PIL import Image\n",
    "\n",
    "# creating a object\n",
    "im = Image.open(\"MlflowInterfaz.png\")\n",
    "\n",
    "im.show()\n"
   ]
  },
  {
   "cell_type": "code",
   "execution_count": 7,
   "id": "ce2478fe",
   "metadata": {},
   "outputs": [],
   "source": [
    "### PANTALLAZO DEL ESTUDIANTE\n",
    "### Metrica mlflow\n",
    "im = Image.open(\"metricaMLFLOW.png\")\n",
    "\n",
    "im.show()"
   ]
  },
  {
   "cell_type": "markdown",
   "id": "1db61edc",
   "metadata": {},
   "source": [
    "## Parte 3\n",
    "\n",
    "Ahora recuperareis la última versión del modelo que acabáis de registrar llamando Este modelo lo pondremos dentro de un decorator de Flask con la siguiente cabecera:\n",
    "\n",
    "`\n",
    "@app.route('/predict', methods=['POST'])\n",
    "`\n",
    "\n",
    "`\n",
    "def predict():\n",
    "`"
   ]
  },
  {
   "cell_type": "code",
   "execution_count": 21,
   "id": "35fdc4ac",
   "metadata": {},
   "outputs": [
    {
     "ename": "OSError",
     "evalue": "No such file or directory: 'C:\\Productivizacion_entrega\\mlruns\\186363832155353579\\7f74f2acc5f94f02be91f36facbbe641\\artifacts\\IrisApellido1Apellido2'",
     "output_type": "error",
     "traceback": [
      "\u001b[1;31m---------------------------------------------------------------------------\u001b[0m",
      "\u001b[1;31mOSError\u001b[0m                                   Traceback (most recent call last)",
      "Cell \u001b[1;32mIn[21], line 12\u001b[0m\n\u001b[0;32m     10\u001b[0m \u001b[38;5;66;03m# Recuperar el modelo registrado\u001b[39;00m\n\u001b[0;32m     11\u001b[0m model_uri \u001b[38;5;241m=\u001b[39m \u001b[38;5;124m\"\u001b[39m\u001b[38;5;124mruns:/7f74f2acc5f94f02be91f36facbbe641/IrisApellido1Apellido2\u001b[39m\u001b[38;5;124m\"\u001b[39m\n\u001b[1;32m---> 12\u001b[0m loaded_model \u001b[38;5;241m=\u001b[39m \u001b[43mmlflow\u001b[49m\u001b[38;5;241;43m.\u001b[39;49m\u001b[43msklearn\u001b[49m\u001b[38;5;241;43m.\u001b[39;49m\u001b[43mload_model\u001b[49m\u001b[43m(\u001b[49m\u001b[43mmodel_uri\u001b[49m\u001b[43m)\u001b[49m\n\u001b[0;32m     14\u001b[0m \u001b[38;5;66;03m# Definir la ruta para predecir\u001b[39;00m\n\u001b[0;32m     15\u001b[0m \u001b[38;5;129m@app\u001b[39m\u001b[38;5;241m.\u001b[39mroute(\u001b[38;5;124m'\u001b[39m\u001b[38;5;124m/predict\u001b[39m\u001b[38;5;124m'\u001b[39m, methods\u001b[38;5;241m=\u001b[39m[\u001b[38;5;124m'\u001b[39m\u001b[38;5;124mPOST\u001b[39m\u001b[38;5;124m'\u001b[39m])\n\u001b[0;32m     16\u001b[0m \u001b[38;5;28;01mdef\u001b[39;00m \u001b[38;5;21mpredict\u001b[39m():\n",
      "File \u001b[1;32mc:\\Productivizacion_entrega\\.venv\\lib\\site-packages\\mlflow\\sklearn\\__init__.py:626\u001b[0m, in \u001b[0;36mload_model\u001b[1;34m(model_uri, dst_path)\u001b[0m\n\u001b[0;32m    591\u001b[0m \u001b[38;5;28;01mdef\u001b[39;00m \u001b[38;5;21mload_model\u001b[39m(model_uri, dst_path\u001b[38;5;241m=\u001b[39m\u001b[38;5;28;01mNone\u001b[39;00m):\n\u001b[0;32m    592\u001b[0m \u001b[38;5;250m    \u001b[39m\u001b[38;5;124;03m\"\"\"\u001b[39;00m\n\u001b[0;32m    593\u001b[0m \u001b[38;5;124;03m    Load a scikit-learn model from a local file or a run.\u001b[39;00m\n\u001b[0;32m    594\u001b[0m \n\u001b[1;32m   (...)\u001b[0m\n\u001b[0;32m    624\u001b[0m \u001b[38;5;124;03m        predictions = sk_model.predict(pandas_df)\u001b[39;00m\n\u001b[0;32m    625\u001b[0m \u001b[38;5;124;03m    \"\"\"\u001b[39;00m\n\u001b[1;32m--> 626\u001b[0m     local_model_path \u001b[38;5;241m=\u001b[39m \u001b[43m_download_artifact_from_uri\u001b[49m\u001b[43m(\u001b[49m\u001b[43martifact_uri\u001b[49m\u001b[38;5;241;43m=\u001b[39;49m\u001b[43mmodel_uri\u001b[49m\u001b[43m,\u001b[49m\u001b[43m \u001b[49m\u001b[43moutput_path\u001b[49m\u001b[38;5;241;43m=\u001b[39;49m\u001b[43mdst_path\u001b[49m\u001b[43m)\u001b[49m\n\u001b[0;32m    627\u001b[0m     flavor_conf \u001b[38;5;241m=\u001b[39m _get_flavor_configuration(model_path\u001b[38;5;241m=\u001b[39mlocal_model_path, flavor_name\u001b[38;5;241m=\u001b[39mFLAVOR_NAME)\n\u001b[0;32m    628\u001b[0m     _add_code_from_conf_to_system_path(local_model_path, flavor_conf)\n",
      "File \u001b[1;32mc:\\Productivizacion_entrega\\.venv\\lib\\site-packages\\mlflow\\tracking\\artifact_utils.py:116\u001b[0m, in \u001b[0;36m_download_artifact_from_uri\u001b[1;34m(artifact_uri, output_path, lineage_header_info)\u001b[0m\n\u001b[0;32m    110\u001b[0m \u001b[38;5;28;01mif\u001b[39;00m \u001b[38;5;28misinstance\u001b[39m(repo, ModelsArtifactRepository):\n\u001b[0;32m    111\u001b[0m     \u001b[38;5;28;01mreturn\u001b[39;00m repo\u001b[38;5;241m.\u001b[39mdownload_artifacts(\n\u001b[0;32m    112\u001b[0m         artifact_path\u001b[38;5;241m=\u001b[39martifact_path,\n\u001b[0;32m    113\u001b[0m         dst_path\u001b[38;5;241m=\u001b[39moutput_path,\n\u001b[0;32m    114\u001b[0m         lineage_header_info\u001b[38;5;241m=\u001b[39mlineage_header_info,\n\u001b[0;32m    115\u001b[0m     )\n\u001b[1;32m--> 116\u001b[0m \u001b[38;5;28;01mreturn\u001b[39;00m \u001b[43mrepo\u001b[49m\u001b[38;5;241;43m.\u001b[39;49m\u001b[43mdownload_artifacts\u001b[49m\u001b[43m(\u001b[49m\u001b[43martifact_path\u001b[49m\u001b[38;5;241;43m=\u001b[39;49m\u001b[43martifact_path\u001b[49m\u001b[43m,\u001b[49m\u001b[43m \u001b[49m\u001b[43mdst_path\u001b[49m\u001b[38;5;241;43m=\u001b[39;49m\u001b[43moutput_path\u001b[49m\u001b[43m)\u001b[49m\n",
      "File \u001b[1;32mc:\\Productivizacion_entrega\\.venv\\lib\\site-packages\\mlflow\\store\\artifact\\runs_artifact_repo.py:131\u001b[0m, in \u001b[0;36mRunsArtifactRepository.download_artifacts\u001b[1;34m(self, artifact_path, dst_path)\u001b[0m\n\u001b[0;32m    114\u001b[0m \u001b[38;5;28;01mdef\u001b[39;00m \u001b[38;5;21mdownload_artifacts\u001b[39m(\u001b[38;5;28mself\u001b[39m, artifact_path, dst_path\u001b[38;5;241m=\u001b[39m\u001b[38;5;28;01mNone\u001b[39;00m):\n\u001b[0;32m    115\u001b[0m \u001b[38;5;250m    \u001b[39m\u001b[38;5;124;03m\"\"\"\u001b[39;00m\n\u001b[0;32m    116\u001b[0m \u001b[38;5;124;03m    Download an artifact file or directory to a local directory if applicable, and return a\u001b[39;00m\n\u001b[0;32m    117\u001b[0m \u001b[38;5;124;03m    local path for it.\u001b[39;00m\n\u001b[1;32m   (...)\u001b[0m\n\u001b[0;32m    129\u001b[0m \u001b[38;5;124;03m        Absolute path of the local filesystem location containing the desired artifacts.\u001b[39;00m\n\u001b[0;32m    130\u001b[0m \u001b[38;5;124;03m    \"\"\"\u001b[39;00m\n\u001b[1;32m--> 131\u001b[0m     \u001b[38;5;28;01mreturn\u001b[39;00m \u001b[38;5;28;43mself\u001b[39;49m\u001b[38;5;241;43m.\u001b[39;49m\u001b[43mrepo\u001b[49m\u001b[38;5;241;43m.\u001b[39;49m\u001b[43mdownload_artifacts\u001b[49m\u001b[43m(\u001b[49m\u001b[43martifact_path\u001b[49m\u001b[43m,\u001b[49m\u001b[43m \u001b[49m\u001b[43mdst_path\u001b[49m\u001b[43m)\u001b[49m\n",
      "File \u001b[1;32mc:\\Productivizacion_entrega\\.venv\\lib\\site-packages\\mlflow\\store\\artifact\\local_artifact_repo.py:91\u001b[0m, in \u001b[0;36mLocalArtifactRepository.download_artifacts\u001b[1;34m(self, artifact_path, dst_path)\u001b[0m\n\u001b[0;32m     89\u001b[0m local_artifact_path \u001b[38;5;241m=\u001b[39m os\u001b[38;5;241m.\u001b[39mpath\u001b[38;5;241m.\u001b[39mjoin(\u001b[38;5;28mself\u001b[39m\u001b[38;5;241m.\u001b[39martifact_dir, os\u001b[38;5;241m.\u001b[39mpath\u001b[38;5;241m.\u001b[39mnormpath(artifact_path))\n\u001b[0;32m     90\u001b[0m \u001b[38;5;28;01mif\u001b[39;00m \u001b[38;5;129;01mnot\u001b[39;00m os\u001b[38;5;241m.\u001b[39mpath\u001b[38;5;241m.\u001b[39mexists(local_artifact_path):\n\u001b[1;32m---> 91\u001b[0m     \u001b[38;5;28;01mraise\u001b[39;00m \u001b[38;5;167;01mOSError\u001b[39;00m(\u001b[38;5;124mf\u001b[39m\u001b[38;5;124m\"\u001b[39m\u001b[38;5;124mNo such file or directory: \u001b[39m\u001b[38;5;124m'\u001b[39m\u001b[38;5;132;01m{\u001b[39;00mlocal_artifact_path\u001b[38;5;132;01m}\u001b[39;00m\u001b[38;5;124m'\u001b[39m\u001b[38;5;124m\"\u001b[39m)\n\u001b[0;32m     92\u001b[0m \u001b[38;5;28;01mreturn\u001b[39;00m os\u001b[38;5;241m.\u001b[39mpath\u001b[38;5;241m.\u001b[39mabspath(local_artifact_path)\n",
      "\u001b[1;31mOSError\u001b[0m: No such file or directory: 'C:\\Productivizacion_entrega\\mlruns\\186363832155353579\\7f74f2acc5f94f02be91f36facbbe641\\artifacts\\IrisApellido1Apellido2'"
     ]
    }
   ],
   "source": [
    "### CÓDIGO DEL ESTUDIANTE\n",
    "import mlflow\n",
    "import mlflow.sklearn\n",
    "from flask import Flask, request, jsonify\n",
    "\n",
    "\n",
    "# Crear una aplicación Flask\n",
    "app = Flask(__name__)\n",
    "\n",
    "# Recuperar el modelo registrado\n",
    "model_uri = \"runs:/7f74f2acc5f94f02be91f36facbbe641/IrisApellido1Apellido2\"\n",
    "loaded_model = mlflow.sklearn.load_model(model_uri)\n",
    "\n",
    "# Definir la ruta para predecir\n",
    "@app.route('/predict', methods=['POST'])\n",
    "def predict():\n",
    "    try:\n",
    "        data = request.get_json()  # Obtener datos de entrada en formato JSON\n",
    "        features = data[\"features\"]  # Asegúrate de que los datos de entrada coincidan con las características del modelo\n",
    "        prediction = loaded_model.predict([features])[0]\n",
    "        return jsonify({\"prediction\": prediction})\n",
    "    except Exception as e:\n",
    "        return jsonify({\"error\": str(e)})\n",
    "\n",
    "if __name__ == \"__main__\":\n",
    "    app.run(host=\"http://localhost:8080/prediction\", port=5000)  # Ejecutar la aplicación Flask en el puerto 5000\n"
   ]
  },
  {
   "cell_type": "markdown",
   "id": "fdaae31b",
   "metadata": {},
   "source": [
    "# Parte 4\n",
    "\n",
    "Ahora comprobaremos que todo funciona correctamente. Para ello, aquí levantaréis el servicio de Flask sobre el puerto 5000 de localhost y utilizaréis este trozo de código desde otro notebook para comprobar que funciona correctamente el servicio y la función `predict`.\n",
    "\n",
    "Aquí el código que podréis utilizar:"
   ]
  },
  {
   "cell_type": "raw",
   "id": "53fdb1ea",
   "metadata": {},
   "source": [
    "import requests\n",
    "import json\n",
    "\n",
    "url = 'http://localhost:5000/predict'\n",
    "data = {\n",
    "    \"data\": [[5.1, 3.5, 1.4, 0.2], [6.2, 3.4, 5.4, 2.3]]\n",
    "}\n",
    "\n",
    "response = requests.post(url, headers={\"Content-Type\": \"application/json\"}, data=json.dumps(data))\n",
    "print(response.json())"
   ]
  },
  {
   "cell_type": "markdown",
   "id": "957ceaa6",
   "metadata": {},
   "source": [
    "Y aquí tendréis que poner un pantallazo con el resultado de la llamada. En el pantallazo se tendrá que ver ambos notebooks, éste y el otro, con éste corriendo con la aplicación y el otro mostrando el resultado de la llamada `POST` anterior."
   ]
  },
  {
   "cell_type": "code",
   "execution_count": 18,
   "id": "eae0acf3",
   "metadata": {},
   "outputs": [],
   "source": [
    "### PANTALLAZO DEL ESTUDIANTE"
   ]
  },
  {
   "cell_type": "code",
   "execution_count": null,
   "id": "40a4b315",
   "metadata": {},
   "outputs": [],
   "source": []
  }
 ],
 "metadata": {
  "kernelspec": {
   "display_name": "Python 3 (ipykernel)",
   "language": "python",
   "name": "python3"
  },
  "language_info": {
   "codemirror_mode": {
    "name": "ipython",
    "version": 3
   },
   "file_extension": ".py",
   "mimetype": "text/x-python",
   "name": "python",
   "nbconvert_exporter": "python",
   "pygments_lexer": "ipython3",
   "version": "3.9.5"
  }
 },
 "nbformat": 4,
 "nbformat_minor": 5
}
