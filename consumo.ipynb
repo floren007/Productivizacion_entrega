{
 "cells": [
  {
   "cell_type": "code",
   "execution_count": null,
   "metadata": {},
   "outputs": [],
   "source": [
    "import requests\n",
    "import json\n",
    "\n",
    "url = 'http://localhost:5000/predict'\n",
    "data = {\n",
    "    \"data\": [[5.1, 3.5, 1.4, 0.2], [6.2, 3.4, 5.4, 2.3]]\n",
    "}\n",
    "\n",
    "response = requests.post(url, headers={\"Content-Type\": \"application/json\"}, data=json.dumps(data))\n",
    "print(response.json())"
   ]
  }
 ],
 "metadata": {
  "language_info": {
   "name": "python"
  }
 },
 "nbformat": 4,
 "nbformat_minor": 2
}
